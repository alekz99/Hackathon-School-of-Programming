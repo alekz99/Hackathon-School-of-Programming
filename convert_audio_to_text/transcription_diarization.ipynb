{
  "cells": [
    {
      "cell_type": "markdown",
      "metadata": {
        "id": "SnkPcL4EK40E"
      },
      "source": [
        "## Диаризация"
      ]
    },
    {
      "cell_type": "code",
      "execution_count": null,
      "metadata": {
        "colab": {
          "base_uri": "https://localhost:8080/"
        },
        "id": "nhjqk6kvvCM4",
        "outputId": "ef16c07f-e6e9-4fc5-928c-e29494dc7c7b"
      },
      "outputs": [
        {
          "output_type": "stream",
          "name": "stdout",
          "text": [
            "Mounted at /content/drive\n"
          ]
        }
      ],
      "source": [
        "from google.colab import drive\n",
        "drive.mount('/content/drive')"
      ]
    },
    {
      "cell_type": "code",
      "execution_count": null,
      "metadata": {
        "id": "G6NqZhd3vYnj"
      },
      "outputs": [],
      "source": [
        "!cp \"/content/drive/MyDrive/Colab Notebooks/hac_rtk_2024/records.zip\" /content/records.zip\n",
        "!unzip /content/records.zip\n",
        "\n",
        "!cp \"/content/drive/MyDrive/Colab Notebooks/hac_rtk_2024/add_materials.zip\" /content/add_materials.zip\n",
        "!unzip  /content/add_materials.zip"
      ]
    },
    {
      "cell_type": "code",
      "execution_count": null,
      "metadata": {
        "id": "Cf3RaDDZJrrG"
      },
      "outputs": [],
      "source": [
        "!pip install --upgrade pyannote.audio accelerate"
      ]
    },
    {
      "cell_type": "code",
      "execution_count": null,
      "metadata": {
        "id": "6sRpivQ3J0Nk"
      },
      "outputs": [],
      "source": [
        "import torch\n",
        "import torchaudio\n",
        "import json\n",
        "\n",
        "from IPython.display import Audio\n",
        "from os import listdir\n",
        "from os.path import isfile, join\n",
        "from pyannote.audio import Pipeline\n",
        "from pyannote.audio.pipelines.utils.hook import ProgressHook"
      ]
    },
    {
      "cell_type": "code",
      "execution_count": null,
      "metadata": {
        "id": "9I6GcKO1vnBu"
      },
      "outputs": [],
      "source": [
        "path_records = '/content/records'\n",
        "audio_files = [join(path_records, file) for file in sorted(listdir(path_records)) if isfile(join(path_records, file))]\n",
        "names = [file for file in sorted(listdir(path_records)) if isfile(join(path_records, file))]"
      ]
    },
    {
      "cell_type": "code",
      "execution_count": null,
      "metadata": {
        "colab": {
          "base_uri": "https://localhost:8080/"
        },
        "id": "EyTMdD0qvlPk",
        "outputId": "db05ca49-445f-4563-dc20-a140928d8b63"
      },
      "outputs": [
        {
          "output_type": "execute_result",
          "data": {
            "text/plain": [
              "<pyannote.audio.pipelines.speaker_diarization.SpeakerDiarization at 0x7ca8d23b2500>"
            ]
          },
          "metadata": {},
          "execution_count": 3
        }
      ],
      "source": [
        "diarization_pipeline = Pipeline.from_pretrained(\n",
        "    \"pyannote/speaker-diarization-3.1\",\n",
        "    use_auth_token='**KEY**'\n",
        ")\n",
        "\n",
        "diarization_pipeline.to(torch.device(\"cuda\"))"
      ]
    },
    {
      "cell_type": "code",
      "execution_count": null,
      "metadata": {
        "id": "A36USO0EBB1I"
      },
      "outputs": [],
      "source": [
        "START, END = 1600, 3100"
      ]
    },
    {
      "cell_type": "code",
      "execution_count": null,
      "metadata": {
        "id": "JjBgxIqvD80f"
      },
      "outputs": [],
      "source": [
        "diarization_pipeline_result = []\n",
        "for index, audio_file in enumerate(audio_files[START:END]):\n",
        "  print(index, audio_file)\n",
        "  waveform, sample_rate = torchaudio.load(audio_file)\n",
        "  output = diarization_pipeline({\"waveform\": waveform, \"sample_rate\": sample_rate})\n",
        "  diarization_pipeline_result.append(output)"
      ]
    },
    {
      "cell_type": "code",
      "execution_count": null,
      "metadata": {
        "id": "WENS0XaSFYbI"
      },
      "outputs": [],
      "source": [
        "diarization_results = []\n",
        "for diarization_result in diarization_pipeline_result:\n",
        "  segments = []\n",
        "  for segment, track, label in diarization_result.itertracks(yield_label=True):\n",
        "    segments.append({'segment': {'start': segment.start, 'end': segment.end},\n",
        "                    'track': track,\n",
        "                    'label': label})\n",
        "  diarization_results.append(segments)"
      ]
    },
    {
      "cell_type": "code",
      "source": [
        "diarization[0]"
      ],
      "metadata": {
        "colab": {
          "base_uri": "https://localhost:8080/"
        },
        "id": "Sv0GbZw-sZqh",
        "outputId": "6b5f3163-2cba-4487-b3de-cdbcc891d9f5"
      },
      "execution_count": null,
      "outputs": [
        {
          "output_type": "execute_result",
          "data": {
            "text/plain": [
              "[{'segment': {'start': 1.36409375, 'end': 1.71846875},\n",
              "  'track': 'A',\n",
              "  'label': 'SPEAKER_02'},\n",
              " {'segment': {'start': 2.98409375, 'end': 9.075968750000001},\n",
              "  'track': 'B',\n",
              "  'label': 'SPEAKER_02'},\n",
              " {'segment': {'start': 9.599093750000002, 'end': 10.51034375},\n",
              "  'track': 'C',\n",
              "  'label': 'SPEAKER_02'},\n",
              " {'segment': {'start': 10.797218750000003, 'end': 18.660968750000002},\n",
              "  'track': 'D',\n",
              "  'label': 'SPEAKER_02'},\n",
              " {'segment': {'start': 18.812843750000003, 'end': 24.60096875},\n",
              "  'track': 'E',\n",
              "  'label': 'SPEAKER_02'},\n",
              " {'segment': {'start': 21.25971875, 'end': 21.52971875},\n",
              "  'track': 'F',\n",
              "  'label': 'SPEAKER_00'},\n",
              " {'segment': {'start': 25.191593750000003, 'end': 34.06784375},\n",
              "  'track': 'G',\n",
              "  'label': 'SPEAKER_02'},\n",
              " {'segment': {'start': 35.06346875, 'end': 38.38784375},\n",
              "  'track': 'H',\n",
              "  'label': 'SPEAKER_01'},\n",
              " {'segment': {'start': 38.556593750000005, 'end': 39.38346875},\n",
              "  'track': 'I',\n",
              "  'label': 'SPEAKER_01'},\n",
              " {'segment': {'start': 39.38346875, 'end': 39.400343750000005},\n",
              "  'track': 'J',\n",
              "  'label': 'SPEAKER_02'},\n",
              " {'segment': {'start': 40.21034375, 'end': 45.98159375},\n",
              "  'track': 'K',\n",
              "  'label': 'SPEAKER_02'},\n",
              " {'segment': {'start': 42.53909375, 'end': 43.197218750000005},\n",
              "  'track': 'L',\n",
              "  'label': 'SPEAKER_01'},\n",
              " {'segment': {'start': 45.525968750000004, 'end': 46.791593750000004},\n",
              "  'track': 'M',\n",
              "  'label': 'SPEAKER_01'},\n",
              " {'segment': {'start': 47.58471875, 'end': 51.02721875},\n",
              "  'track': 'N',\n",
              "  'label': 'SPEAKER_02'},\n",
              " {'segment': {'start': 50.80784375, 'end': 50.84159375},\n",
              "  'track': 'O',\n",
              "  'label': 'SPEAKER_01'},\n",
              " {'segment': {'start': 51.02721875, 'end': 51.07784375},\n",
              "  'track': 'P',\n",
              "  'label': 'SPEAKER_01'},\n",
              " {'segment': {'start': 51.07784375, 'end': 51.14534375},\n",
              "  'track': 'Q',\n",
              "  'label': 'SPEAKER_02'},\n",
              " {'segment': {'start': 51.14534375, 'end': 53.085968750000006},\n",
              "  'track': 'R',\n",
              "  'label': 'SPEAKER_01'},\n",
              " {'segment': {'start': 53.085968750000006, 'end': 53.102843750000005},\n",
              "  'track': 'S',\n",
              "  'label': 'SPEAKER_02'},\n",
              " {'segment': {'start': 53.524718750000005, 'end': 60.24096875},\n",
              "  'track': 'T',\n",
              "  'label': 'SPEAKER_02'},\n",
              " {'segment': {'start': 58.992218750000006, 'end': 59.954093750000006},\n",
              "  'track': 'U',\n",
              "  'label': 'SPEAKER_01'},\n",
              " {'segment': {'start': 61.236593750000004, 'end': 61.962218750000005},\n",
              "  'track': 'V',\n",
              "  'label': 'SPEAKER_02'},\n",
              " {'segment': {'start': 61.540343750000005, 'end': 62.687843750000006},\n",
              "  'track': 'W',\n",
              "  'label': 'SPEAKER_01'},\n",
              " {'segment': {'start': 62.85659375, 'end': 62.89034375000001},\n",
              "  'track': 'X',\n",
              "  'label': 'SPEAKER_01'},\n",
              " {'segment': {'start': 62.89034375000001, 'end': 63.71721875},\n",
              "  'track': 'Y',\n",
              "  'label': 'SPEAKER_02'},\n",
              " {'segment': {'start': 63.19409375, 'end': 65.55659375},\n",
              "  'track': 'Z',\n",
              "  'label': 'SPEAKER_01'},\n",
              " {'segment': {'start': 65.55659375, 'end': 74.44971875},\n",
              "  'track': 'AA',\n",
              "  'label': 'SPEAKER_02'},\n",
              " {'segment': {'start': 73.52159375000001, 'end': 73.92659375000001},\n",
              "  'track': 'AB',\n",
              "  'label': 'SPEAKER_01'},\n",
              " {'segment': {'start': 73.92659375000001, 'end': 73.96034375},\n",
              "  'track': 'AC',\n",
              "  'label': 'SPEAKER_00'},\n",
              " {'segment': {'start': 74.83784375, 'end': 80.40659375},\n",
              "  'track': 'AD',\n",
              "  'label': 'SPEAKER_02'},\n",
              " {'segment': {'start': 80.79471875, 'end': 85.46909375},\n",
              "  'track': 'AE',\n",
              "  'label': 'SPEAKER_02'},\n",
              " {'segment': {'start': 85.82346875, 'end': 97.58534375},\n",
              "  'track': 'AF',\n",
              "  'label': 'SPEAKER_02'},\n",
              " {'segment': {'start': 94.12596875000001, 'end': 94.48034375},\n",
              "  'track': 'AG',\n",
              "  'label': 'SPEAKER_00'},\n",
              " {'segment': {'start': 96.55596875, 'end': 97.11284375000001},\n",
              "  'track': 'AH',\n",
              "  'label': 'SPEAKER_00'},\n",
              " {'segment': {'start': 97.87221875, 'end': 100.47096875000001},\n",
              "  'track': 'AI',\n",
              "  'label': 'SPEAKER_02'},\n",
              " {'segment': {'start': 100.58909375, 'end': 101.04471875},\n",
              "  'track': 'AJ',\n",
              "  'label': 'SPEAKER_02'},\n",
              " {'segment': {'start': 101.21346875, 'end': 106.09034375},\n",
              "  'track': 'AK',\n",
              "  'label': 'SPEAKER_02'},\n",
              " {'segment': {'start': 104.41971875, 'end': 105.14534375000001},\n",
              "  'track': 'AL',\n",
              "  'label': 'SPEAKER_00'},\n",
              " {'segment': {'start': 106.76534375, 'end': 111.23721875000001},\n",
              "  'track': 'AM',\n",
              "  'label': 'SPEAKER_02'},\n",
              " {'segment': {'start': 111.72659375, 'end': 114.83159375000001},\n",
              "  'track': 'AN',\n",
              "  'label': 'SPEAKER_02'},\n",
              " {'segment': {'start': 114.27471875, 'end': 117.80159375000001},\n",
              "  'track': 'AO',\n",
              "  'label': 'SPEAKER_00'},\n",
              " {'segment': {'start': 118.13909375, 'end': 118.72971875},\n",
              "  'track': 'AP',\n",
              "  'label': 'SPEAKER_02'},\n",
              " {'segment': {'start': 118.32471875, 'end': 120.97409375000001},\n",
              "  'track': 'AQ',\n",
              "  'label': 'SPEAKER_00'},\n",
              " {'segment': {'start': 120.01221875, 'end': 120.28221875000001},\n",
              "  'track': 'AR',\n",
              "  'label': 'SPEAKER_02'},\n",
              " {'segment': {'start': 120.55221875000001, 'end': 120.90659375000001},\n",
              "  'track': 'AS',\n",
              "  'label': 'SPEAKER_02'},\n",
              " {'segment': {'start': 120.97409375000001, 'end': 121.09221875},\n",
              "  'track': 'AT',\n",
              "  'label': 'SPEAKER_02'},\n",
              " {'segment': {'start': 121.09221875, 'end': 121.15971875000001},\n",
              "  'track': 'AU',\n",
              "  'label': 'SPEAKER_00'},\n",
              " {'segment': {'start': 121.15971875000001, 'end': 122.08784375},\n",
              "  'track': 'AV',\n",
              "  'label': 'SPEAKER_02'},\n",
              " {'segment': {'start': 122.08784375, 'end': 122.42534375000001},\n",
              "  'track': 'AW',\n",
              "  'label': 'SPEAKER_00'},\n",
              " {'segment': {'start': 122.42534375000001, 'end': 126.44159375000001},\n",
              "  'track': 'AX',\n",
              "  'label': 'SPEAKER_02'},\n",
              " {'segment': {'start': 125.66534375, 'end': 126.49221875},\n",
              "  'track': 'AY',\n",
              "  'label': 'SPEAKER_00'},\n",
              " {'segment': {'start': 126.49221875, 'end': 129.09096875},\n",
              "  'track': 'AZ',\n",
              "  'label': 'SPEAKER_02'},\n",
              " {'segment': {'start': 127.99409375000002, 'end': 129.00659375},\n",
              "  'track': 'BA',\n",
              "  'label': 'SPEAKER_00'},\n",
              " {'segment': {'start': 129.09096875, 'end': 129.58034375},\n",
              "  'track': 'BB',\n",
              "  'label': 'SPEAKER_00'},\n",
              " {'segment': {'start': 129.58034375, 'end': 133.88346875000002},\n",
              "  'track': 'BC',\n",
              "  'label': 'SPEAKER_02'},\n",
              " {'segment': {'start': 129.59721875, 'end': 130.40721875},\n",
              "  'track': 'BD',\n",
              "  'label': 'SPEAKER_00'},\n",
              " {'segment': {'start': 133.42784375000002, 'end': 135.67221875},\n",
              "  'track': 'BE',\n",
              "  'label': 'SPEAKER_00'},\n",
              " {'segment': {'start': 135.67221875, 'end': 135.79034375},\n",
              "  'track': 'BF',\n",
              "  'label': 'SPEAKER_02'},\n",
              " {'segment': {'start': 135.79034375, 'end': 135.85784375},\n",
              "  'track': 'BG',\n",
              "  'label': 'SPEAKER_00'},\n",
              " {'segment': {'start': 135.85784375, 'end': 135.87471875},\n",
              "  'track': 'BH',\n",
              "  'label': 'SPEAKER_02'},\n",
              " {'segment': {'start': 136.31346875, 'end': 136.33034375},\n",
              "  'track': 'BI',\n",
              "  'label': 'SPEAKER_00'},\n",
              " {'segment': {'start': 136.33034375, 'end': 138.65909375},\n",
              "  'track': 'BJ',\n",
              "  'label': 'SPEAKER_02'},\n",
              " {'segment': {'start': 138.87846875, 'end': 145.88159375},\n",
              "  'track': 'BK',\n",
              "  'label': 'SPEAKER_02'},\n",
              " {'segment': {'start': 146.10096875000002, 'end': 149.61096875},\n",
              "  'track': 'BL',\n",
              "  'label': 'SPEAKER_02'},\n",
              " {'segment': {'start': 150.48846875, 'end': 151.45034375},\n",
              "  'track': 'BM',\n",
              "  'label': 'SPEAKER_02'},\n",
              " {'segment': {'start': 151.73721875, 'end': 153.45846875},\n",
              "  'track': 'BN',\n",
              "  'label': 'SPEAKER_02'}]"
            ]
          },
          "metadata": {},
          "execution_count": 14
        }
      ]
    },
    {
      "cell_type": "code",
      "execution_count": null,
      "metadata": {
        "id": "sBRVqAoJFovz"
      },
      "outputs": [],
      "source": [
        "with open('diarization_results_1600_3100.txt', 'w') as filehandle:\n",
        "  json.dump(diarization_results, filehandle)\n",
        "\n",
        "#with open('output.txt', 'r') as filehandle:\n",
        "  #q = json.load(filehandle)"
      ]
    },
    {
      "cell_type": "code",
      "execution_count": null,
      "metadata": {
        "id": "podsdWthHL1F"
      },
      "outputs": [],
      "source": [
        "!cp /content/diarization_results_1600_3100.txt \"/content/drive/MyDrive/Colab Notebooks/hac_rtk_2024/diarization_results_1600_3100.txt\""
      ]
    },
    {
      "cell_type": "markdown",
      "metadata": {
        "id": "F8nYMgcsw-kt"
      },
      "source": [
        "## Транскрибация"
      ]
    },
    {
      "cell_type": "code",
      "execution_count": null,
      "metadata": {
        "id": "ceYGjscCxRZN"
      },
      "outputs": [],
      "source": [
        "from transformers import AutoModelForSpeechSeq2Seq, AutoProcessor, pipeline"
      ]
    },
    {
      "cell_type": "code",
      "execution_count": null,
      "metadata": {
        "colab": {
          "base_uri": "https://localhost:8080/"
        },
        "id": "FDzt0B0PxTbK",
        "outputId": "f8570ced-6187-42df-d091-e5543c60d267"
      },
      "outputs": [
        {
          "output_type": "stream",
          "name": "stderr",
          "text": [
            "Special tokens have been added in the vocabulary, make sure the associated word embeddings are fine-tuned or trained.\n"
          ]
        }
      ],
      "source": [
        "device = \"cuda:0\" if torch.cuda.is_available() else \"cpu\"\n",
        "torch_dtype = torch.float16 if torch.cuda.is_available() else torch.float32\n",
        "\n",
        "model_id = \"openai/whisper-large-v3\"\n",
        "\n",
        "model = AutoModelForSpeechSeq2Seq.from_pretrained(\n",
        "    model_id,\n",
        "    torch_dtype=torch_dtype,\n",
        "    low_cpu_mem_usage=True,\n",
        "    use_safetensors=True\n",
        ")\n",
        "model.to(device)\n",
        "\n",
        "processor = AutoProcessor.from_pretrained(model_id)\n",
        "asr_pipeline = pipeline(\n",
        "    \"automatic-speech-recognition\",\n",
        "    model=model_id,\n",
        "    tokenizer=processor.tokenizer,\n",
        "    feature_extractor=processor.feature_extractor,\n",
        "    max_new_tokens=256,\n",
        "    chunk_length_s=30,\n",
        "    batch_size=16,\n",
        "    return_timestamps=True,\n",
        "    torch_dtype=torch_dtype,\n",
        "    device=device,\n",
        "    generate_kwargs={\"language\": \"russian\"}\n",
        ")"
      ]
    },
    {
      "cell_type": "code",
      "execution_count": null,
      "metadata": {
        "id": "7kvYUic8MW3C"
      },
      "outputs": [],
      "source": [
        "START, END = 2100, 3100"
      ]
    },
    {
      "cell_type": "code",
      "execution_count": null,
      "metadata": {
        "id": "oNdFARUIMXCK"
      },
      "outputs": [],
      "source": [
        "asr_results = asr_pipeline(audio_files[START:END])"
      ]
    },
    {
      "cell_type": "code",
      "execution_count": null,
      "metadata": {
        "id": "zxDC_pjCMXJN"
      },
      "outputs": [],
      "source": [
        "with open('asr_results_2100_3100.txt', 'w') as filehandle:\n",
        "  json.dump(asr_results, filehandle)\n",
        "\n",
        "#with open('asr_results_0_1600.txt', 'r') as filehandle:\n",
        "  #q = json.load(filehandle)"
      ]
    },
    {
      "cell_type": "code",
      "execution_count": null,
      "metadata": {
        "id": "i-P4ozLwMd44"
      },
      "outputs": [],
      "source": [
        "!cp /content/asr_results_2100_3100.txt \"/content/drive/MyDrive/Colab Notebooks/hac_rtk_2024/asr_results_2100_3100.txt\""
      ]
    },
    {
      "cell_type": "markdown",
      "metadata": {
        "id": "duwk0Mm2ywdU"
      },
      "source": [
        "## Speechbox"
      ]
    },
    {
      "cell_type": "code",
      "execution_count": null,
      "metadata": {
        "id": "gv-I202S1dsO"
      },
      "outputs": [],
      "source": [
        "import locale\n",
        "locale.getpreferredencoding = lambda: \"UTF-8\""
      ]
    },
    {
      "cell_type": "code",
      "execution_count": null,
      "metadata": {
        "id": "7Sx1YfemTv8T"
      },
      "outputs": [],
      "source": [
        "!cp \"/content/drive/MyDrive/Colab Notebooks/hac_rtk_2024/data/asr_results_0_1100.txt\" /content/asr_results_0_1100.txt\n",
        "!cp \"/content/drive/MyDrive/Colab Notebooks/hac_rtk_2024/data/asr_results_1100_2100.txt\" /content/asr_results_1100_2100.txt\n",
        "!cp \"/content/drive/MyDrive/Colab Notebooks/hac_rtk_2024/data/asr_results_2100_3100.txt\" /content/asr_results_2100_3100.txt\n",
        "\n",
        "!cp \"/content/drive/MyDrive/Colab Notebooks/hac_rtk_2024/data/diarization_results_0_1600.txt\" /content/diarization_results_0_1600.txt\n",
        "!cp \"/content/drive/MyDrive/Colab Notebooks/hac_rtk_2024/data/diarization_results_1600_3100.txt\" /content/diarization_results_1600_3100.txt"
      ]
    },
    {
      "cell_type": "code",
      "execution_count": null,
      "metadata": {
        "id": "r8OaGyc-yxnN"
      },
      "outputs": [],
      "source": [
        "!pip install \"git+https://github.com/huggingface/speechbox\""
      ]
    },
    {
      "cell_type": "code",
      "execution_count": null,
      "metadata": {
        "id": "5Vq5ju43y3KX"
      },
      "outputs": [],
      "source": [
        "import pandas as pd\n",
        "from speechbox import ASRDiarizationPipeline"
      ]
    },
    {
      "cell_type": "code",
      "execution_count": null,
      "metadata": {
        "id": "6jhqHmSTU6VK"
      },
      "outputs": [],
      "source": [
        "with open('asr_results_0_1100.txt', 'r') as filehandle:\n",
        "  asr_part_1 = json.load(filehandle)\n",
        "\n",
        "with open('asr_results_1100_2100.txt', 'r') as filehandle:\n",
        "  asr_part_2 = json.load(filehandle)\n",
        "\n",
        "with open('asr_results_2100_3100.txt', 'r') as filehandle:\n",
        "  asr_part_3 = json.load(filehandle)\n",
        "\n",
        "asr = asr_part_1 + asr_part_2 + asr_part_3\n",
        "\n",
        "assert(len(asr) == 3100)"
      ]
    },
    {
      "cell_type": "code",
      "execution_count": null,
      "metadata": {
        "id": "aY9wEsg2VH_6"
      },
      "outputs": [],
      "source": [
        "with open('diarization_results_0_1600.txt', 'r') as filehandle:\n",
        "  diarization_part_1 = json.load(filehandle)\n",
        "\n",
        "with open('diarization_results_1600_3100.txt', 'r') as filehandle:\n",
        "  diarization_part_2 = json.load(filehandle)\n",
        "\n",
        "diarization = diarization_part_1 + diarization_part_2\n",
        "\n",
        "assert(len(diarization) == 3100)"
      ]
    },
    {
      "cell_type": "code",
      "execution_count": null,
      "metadata": {
        "id": "wvyDWxeCU5ND"
      },
      "outputs": [],
      "source": [
        "pipeline = ASRDiarizationPipeline(\n",
        "    asr_pipeline=asr_pipeline,\n",
        "    diarization_pipeline=diarization_pipeline,\n",
        "    asr_array=asr,\n",
        "    diar_array=diarization\n",
        ")"
      ]
    },
    {
      "cell_type": "code",
      "execution_count": null,
      "metadata": {
        "id": "vRE_kEj4zM26"
      },
      "outputs": [],
      "source": [
        "def format_as_transcription(raw_segments):\n",
        "    return \"\\n\".join([f'{chunk[\"speaker\"]} {chunk[\"text\"]}' for chunk in raw_segments])"
      ]
    },
    {
      "cell_type": "code",
      "execution_count": null,
      "metadata": {
        "id": "eHugJ1wN4HZp"
      },
      "outputs": [],
      "source": [
        "START, END = 0, 3100"
      ]
    },
    {
      "cell_type": "code",
      "execution_count": null,
      "metadata": {
        "id": "VtKDsOQuzV8e"
      },
      "outputs": [],
      "source": [
        "results = []\n",
        "for index, audio_file in enumerate(audio_files[START:END]):\n",
        "  print(index, audio_file)\n",
        "  outputs = pipeline(audio_file, index=index)\n",
        "  h = format_as_transcription(outputs)\n",
        "  results.append(h)"
      ]
    },
    {
      "cell_type": "code",
      "execution_count": null,
      "metadata": {
        "id": "lEOEQT2u15xg"
      },
      "outputs": [],
      "source": [
        "df = pd.DataFrame(data={'names': names[START:END], 'texts': [r for r in results]})\n",
        "df.to_csv('td_data.csv', index=False, encoding='utf-8')"
      ]
    },
    {
      "cell_type": "code",
      "execution_count": null,
      "metadata": {
        "colab": {
          "base_uri": "https://localhost:8080/",
          "height": 424
        },
        "id": "dSkOzz5xlxLE",
        "outputId": "717e8ef1-e91d-41d8-d169-e402521aaa42"
      },
      "outputs": [
        {
          "output_type": "execute_result",
          "data": {
            "text/plain": [
              "                                 names  \\\n",
              "0     12352375_2024-03-14_16.04.49.mp3   \n",
              "1     12352375_2024-03-14_16.11.08.mp3   \n",
              "2     12352472_2024-03-20_11.25.20.mp3   \n",
              "3     12352472_2024-03-20_15.19.45.mp3   \n",
              "4     12352472_2024-03-20_15.21.22.mp3   \n",
              "...                                ...   \n",
              "3095  12742797_2024-04-23_15.28.55.mp3   \n",
              "3096  12742797_2024-05-02_10.56.34.mp3   \n",
              "3097  12742797_2024-05-07_14.06.33.mp3   \n",
              "3098  12742797_2024-05-13_09.55.51.mp3   \n",
              "3099  12742797_2024-05-14_10.04.17.mp3   \n",
              "\n",
              "                                                  texts  \n",
              "0     SPEAKER_02  Здравствуйте. Расскажите, пожалуйс...  \n",
              "1     SPEAKER_03  Добрый день. Скажи, пожалуйста, эт...  \n",
              "2     SPEAKER_00  Алло. Добрый день. Подскажите, пож...  \n",
              "3     SPEAKER_01  Алло. Здравствуйте еще раз, это Ма...  \n",
              "4     SPEAKER_00  Алло. Добрый день. Добрый. День чи...  \n",
              "...                                                 ...  \n",
              "3095  SPEAKER_01  Алло. Добрый день. Здравствуйте. К...  \n",
              "3096  SPEAKER_02  Алло. Добрый день. Здравствуйте. К...  \n",
              "3097  SPEAKER_02  Добрый день.\\nSPEAKER_00  Спасибо....  \n",
              "3098  SPEAKER_00  Здравствуйте! Вызываемый абонент с...  \n",
              "3099  SPEAKER_00  Здравствуйте! Вызываемый абонент с...  \n",
              "\n",
              "[3100 rows x 2 columns]"
            ],
            "text/html": [
              "\n",
              "  <div id=\"df-3f7dd9f0-1f71-4b31-92e4-ef60a5a1416b\" class=\"colab-df-container\">\n",
              "    <div>\n",
              "<style scoped>\n",
              "    .dataframe tbody tr th:only-of-type {\n",
              "        vertical-align: middle;\n",
              "    }\n",
              "\n",
              "    .dataframe tbody tr th {\n",
              "        vertical-align: top;\n",
              "    }\n",
              "\n",
              "    .dataframe thead th {\n",
              "        text-align: right;\n",
              "    }\n",
              "</style>\n",
              "<table border=\"1\" class=\"dataframe\">\n",
              "  <thead>\n",
              "    <tr style=\"text-align: right;\">\n",
              "      <th></th>\n",
              "      <th>names</th>\n",
              "      <th>texts</th>\n",
              "    </tr>\n",
              "  </thead>\n",
              "  <tbody>\n",
              "    <tr>\n",
              "      <th>0</th>\n",
              "      <td>12352375_2024-03-14_16.04.49.mp3</td>\n",
              "      <td>SPEAKER_02  Здравствуйте. Расскажите, пожалуйс...</td>\n",
              "    </tr>\n",
              "    <tr>\n",
              "      <th>1</th>\n",
              "      <td>12352375_2024-03-14_16.11.08.mp3</td>\n",
              "      <td>SPEAKER_03  Добрый день. Скажи, пожалуйста, эт...</td>\n",
              "    </tr>\n",
              "    <tr>\n",
              "      <th>2</th>\n",
              "      <td>12352472_2024-03-20_11.25.20.mp3</td>\n",
              "      <td>SPEAKER_00  Алло. Добрый день. Подскажите, пож...</td>\n",
              "    </tr>\n",
              "    <tr>\n",
              "      <th>3</th>\n",
              "      <td>12352472_2024-03-20_15.19.45.mp3</td>\n",
              "      <td>SPEAKER_01  Алло. Здравствуйте еще раз, это Ма...</td>\n",
              "    </tr>\n",
              "    <tr>\n",
              "      <th>4</th>\n",
              "      <td>12352472_2024-03-20_15.21.22.mp3</td>\n",
              "      <td>SPEAKER_00  Алло. Добрый день. Добрый. День чи...</td>\n",
              "    </tr>\n",
              "    <tr>\n",
              "      <th>...</th>\n",
              "      <td>...</td>\n",
              "      <td>...</td>\n",
              "    </tr>\n",
              "    <tr>\n",
              "      <th>3095</th>\n",
              "      <td>12742797_2024-04-23_15.28.55.mp3</td>\n",
              "      <td>SPEAKER_01  Алло. Добрый день. Здравствуйте. К...</td>\n",
              "    </tr>\n",
              "    <tr>\n",
              "      <th>3096</th>\n",
              "      <td>12742797_2024-05-02_10.56.34.mp3</td>\n",
              "      <td>SPEAKER_02  Алло. Добрый день. Здравствуйте. К...</td>\n",
              "    </tr>\n",
              "    <tr>\n",
              "      <th>3097</th>\n",
              "      <td>12742797_2024-05-07_14.06.33.mp3</td>\n",
              "      <td>SPEAKER_02  Добрый день.\\nSPEAKER_00  Спасибо....</td>\n",
              "    </tr>\n",
              "    <tr>\n",
              "      <th>3098</th>\n",
              "      <td>12742797_2024-05-13_09.55.51.mp3</td>\n",
              "      <td>SPEAKER_00  Здравствуйте! Вызываемый абонент с...</td>\n",
              "    </tr>\n",
              "    <tr>\n",
              "      <th>3099</th>\n",
              "      <td>12742797_2024-05-14_10.04.17.mp3</td>\n",
              "      <td>SPEAKER_00  Здравствуйте! Вызываемый абонент с...</td>\n",
              "    </tr>\n",
              "  </tbody>\n",
              "</table>\n",
              "<p>3100 rows × 2 columns</p>\n",
              "</div>\n",
              "    <div class=\"colab-df-buttons\">\n",
              "\n",
              "  <div class=\"colab-df-container\">\n",
              "    <button class=\"colab-df-convert\" onclick=\"convertToInteractive('df-3f7dd9f0-1f71-4b31-92e4-ef60a5a1416b')\"\n",
              "            title=\"Convert this dataframe to an interactive table.\"\n",
              "            style=\"display:none;\">\n",
              "\n",
              "  <svg xmlns=\"http://www.w3.org/2000/svg\" height=\"24px\" viewBox=\"0 -960 960 960\">\n",
              "    <path d=\"M120-120v-720h720v720H120Zm60-500h600v-160H180v160Zm220 220h160v-160H400v160Zm0 220h160v-160H400v160ZM180-400h160v-160H180v160Zm440 0h160v-160H620v160ZM180-180h160v-160H180v160Zm440 0h160v-160H620v160Z\"/>\n",
              "  </svg>\n",
              "    </button>\n",
              "\n",
              "  <style>\n",
              "    .colab-df-container {\n",
              "      display:flex;\n",
              "      gap: 12px;\n",
              "    }\n",
              "\n",
              "    .colab-df-convert {\n",
              "      background-color: #E8F0FE;\n",
              "      border: none;\n",
              "      border-radius: 50%;\n",
              "      cursor: pointer;\n",
              "      display: none;\n",
              "      fill: #1967D2;\n",
              "      height: 32px;\n",
              "      padding: 0 0 0 0;\n",
              "      width: 32px;\n",
              "    }\n",
              "\n",
              "    .colab-df-convert:hover {\n",
              "      background-color: #E2EBFA;\n",
              "      box-shadow: 0px 1px 2px rgba(60, 64, 67, 0.3), 0px 1px 3px 1px rgba(60, 64, 67, 0.15);\n",
              "      fill: #174EA6;\n",
              "    }\n",
              "\n",
              "    .colab-df-buttons div {\n",
              "      margin-bottom: 4px;\n",
              "    }\n",
              "\n",
              "    [theme=dark] .colab-df-convert {\n",
              "      background-color: #3B4455;\n",
              "      fill: #D2E3FC;\n",
              "    }\n",
              "\n",
              "    [theme=dark] .colab-df-convert:hover {\n",
              "      background-color: #434B5C;\n",
              "      box-shadow: 0px 1px 3px 1px rgba(0, 0, 0, 0.15);\n",
              "      filter: drop-shadow(0px 1px 2px rgba(0, 0, 0, 0.3));\n",
              "      fill: #FFFFFF;\n",
              "    }\n",
              "  </style>\n",
              "\n",
              "    <script>\n",
              "      const buttonEl =\n",
              "        document.querySelector('#df-3f7dd9f0-1f71-4b31-92e4-ef60a5a1416b button.colab-df-convert');\n",
              "      buttonEl.style.display =\n",
              "        google.colab.kernel.accessAllowed ? 'block' : 'none';\n",
              "\n",
              "      async function convertToInteractive(key) {\n",
              "        const element = document.querySelector('#df-3f7dd9f0-1f71-4b31-92e4-ef60a5a1416b');\n",
              "        const dataTable =\n",
              "          await google.colab.kernel.invokeFunction('convertToInteractive',\n",
              "                                                    [key], {});\n",
              "        if (!dataTable) return;\n",
              "\n",
              "        const docLinkHtml = 'Like what you see? Visit the ' +\n",
              "          '<a target=\"_blank\" href=https://colab.research.google.com/notebooks/data_table.ipynb>data table notebook</a>'\n",
              "          + ' to learn more about interactive tables.';\n",
              "        element.innerHTML = '';\n",
              "        dataTable['output_type'] = 'display_data';\n",
              "        await google.colab.output.renderOutput(dataTable, element);\n",
              "        const docLink = document.createElement('div');\n",
              "        docLink.innerHTML = docLinkHtml;\n",
              "        element.appendChild(docLink);\n",
              "      }\n",
              "    </script>\n",
              "  </div>\n",
              "\n",
              "\n",
              "<div id=\"df-8bff059c-5b9c-4aba-8572-b741298941ae\">\n",
              "  <button class=\"colab-df-quickchart\" onclick=\"quickchart('df-8bff059c-5b9c-4aba-8572-b741298941ae')\"\n",
              "            title=\"Suggest charts\"\n",
              "            style=\"display:none;\">\n",
              "\n",
              "<svg xmlns=\"http://www.w3.org/2000/svg\" height=\"24px\"viewBox=\"0 0 24 24\"\n",
              "     width=\"24px\">\n",
              "    <g>\n",
              "        <path d=\"M19 3H5c-1.1 0-2 .9-2 2v14c0 1.1.9 2 2 2h14c1.1 0 2-.9 2-2V5c0-1.1-.9-2-2-2zM9 17H7v-7h2v7zm4 0h-2V7h2v10zm4 0h-2v-4h2v4z\"/>\n",
              "    </g>\n",
              "</svg>\n",
              "  </button>\n",
              "\n",
              "<style>\n",
              "  .colab-df-quickchart {\n",
              "      --bg-color: #E8F0FE;\n",
              "      --fill-color: #1967D2;\n",
              "      --hover-bg-color: #E2EBFA;\n",
              "      --hover-fill-color: #174EA6;\n",
              "      --disabled-fill-color: #AAA;\n",
              "      --disabled-bg-color: #DDD;\n",
              "  }\n",
              "\n",
              "  [theme=dark] .colab-df-quickchart {\n",
              "      --bg-color: #3B4455;\n",
              "      --fill-color: #D2E3FC;\n",
              "      --hover-bg-color: #434B5C;\n",
              "      --hover-fill-color: #FFFFFF;\n",
              "      --disabled-bg-color: #3B4455;\n",
              "      --disabled-fill-color: #666;\n",
              "  }\n",
              "\n",
              "  .colab-df-quickchart {\n",
              "    background-color: var(--bg-color);\n",
              "    border: none;\n",
              "    border-radius: 50%;\n",
              "    cursor: pointer;\n",
              "    display: none;\n",
              "    fill: var(--fill-color);\n",
              "    height: 32px;\n",
              "    padding: 0;\n",
              "    width: 32px;\n",
              "  }\n",
              "\n",
              "  .colab-df-quickchart:hover {\n",
              "    background-color: var(--hover-bg-color);\n",
              "    box-shadow: 0 1px 2px rgba(60, 64, 67, 0.3), 0 1px 3px 1px rgba(60, 64, 67, 0.15);\n",
              "    fill: var(--button-hover-fill-color);\n",
              "  }\n",
              "\n",
              "  .colab-df-quickchart-complete:disabled,\n",
              "  .colab-df-quickchart-complete:disabled:hover {\n",
              "    background-color: var(--disabled-bg-color);\n",
              "    fill: var(--disabled-fill-color);\n",
              "    box-shadow: none;\n",
              "  }\n",
              "\n",
              "  .colab-df-spinner {\n",
              "    border: 2px solid var(--fill-color);\n",
              "    border-color: transparent;\n",
              "    border-bottom-color: var(--fill-color);\n",
              "    animation:\n",
              "      spin 1s steps(1) infinite;\n",
              "  }\n",
              "\n",
              "  @keyframes spin {\n",
              "    0% {\n",
              "      border-color: transparent;\n",
              "      border-bottom-color: var(--fill-color);\n",
              "      border-left-color: var(--fill-color);\n",
              "    }\n",
              "    20% {\n",
              "      border-color: transparent;\n",
              "      border-left-color: var(--fill-color);\n",
              "      border-top-color: var(--fill-color);\n",
              "    }\n",
              "    30% {\n",
              "      border-color: transparent;\n",
              "      border-left-color: var(--fill-color);\n",
              "      border-top-color: var(--fill-color);\n",
              "      border-right-color: var(--fill-color);\n",
              "    }\n",
              "    40% {\n",
              "      border-color: transparent;\n",
              "      border-right-color: var(--fill-color);\n",
              "      border-top-color: var(--fill-color);\n",
              "    }\n",
              "    60% {\n",
              "      border-color: transparent;\n",
              "      border-right-color: var(--fill-color);\n",
              "    }\n",
              "    80% {\n",
              "      border-color: transparent;\n",
              "      border-right-color: var(--fill-color);\n",
              "      border-bottom-color: var(--fill-color);\n",
              "    }\n",
              "    90% {\n",
              "      border-color: transparent;\n",
              "      border-bottom-color: var(--fill-color);\n",
              "    }\n",
              "  }\n",
              "</style>\n",
              "\n",
              "  <script>\n",
              "    async function quickchart(key) {\n",
              "      const quickchartButtonEl =\n",
              "        document.querySelector('#' + key + ' button');\n",
              "      quickchartButtonEl.disabled = true;  // To prevent multiple clicks.\n",
              "      quickchartButtonEl.classList.add('colab-df-spinner');\n",
              "      try {\n",
              "        const charts = await google.colab.kernel.invokeFunction(\n",
              "            'suggestCharts', [key], {});\n",
              "      } catch (error) {\n",
              "        console.error('Error during call to suggestCharts:', error);\n",
              "      }\n",
              "      quickchartButtonEl.classList.remove('colab-df-spinner');\n",
              "      quickchartButtonEl.classList.add('colab-df-quickchart-complete');\n",
              "    }\n",
              "    (() => {\n",
              "      let quickchartButtonEl =\n",
              "        document.querySelector('#df-8bff059c-5b9c-4aba-8572-b741298941ae button');\n",
              "      quickchartButtonEl.style.display =\n",
              "        google.colab.kernel.accessAllowed ? 'block' : 'none';\n",
              "    })();\n",
              "  </script>\n",
              "</div>\n",
              "    </div>\n",
              "  </div>\n"
            ],
            "application/vnd.google.colaboratory.intrinsic+json": {
              "type": "dataframe",
              "variable_name": "df",
              "summary": "{\n  \"name\": \"df\",\n  \"rows\": 3100,\n  \"fields\": [\n    {\n      \"column\": \"names\",\n      \"properties\": {\n        \"dtype\": \"string\",\n        \"num_unique_values\": 3100,\n        \"samples\": [\n          \"12398331_2024-03-12_11.21.44.mp3\",\n          \"12728555_2024-04-08_10.45.13.mp3\",\n          \"12683842_2024-04-04_15.27.25.mp3\"\n        ],\n        \"semantic_type\": \"\",\n        \"description\": \"\"\n      }\n    },\n    {\n      \"column\": \"texts\",\n      \"properties\": {\n        \"dtype\": \"string\",\n        \"num_unique_values\": 3006,\n        \"samples\": [\n          \"SPEAKER_01  \\u0421\\u043b\\u0443\\u0448\\u0430\\u044e.\\nSPEAKER_00  \\u0410\\u043b\\u043b\\u043e, \\u0437\\u0434\\u0440\\u0430\\u0432\\u0441\\u0442\\u0432\\u0443\\u0439\\u0442\\u0435, \\u041c\\u0430\\u0440\\u0433\\u0430\\u0440\\u0438\\u0442\\u0430, \\u044d\\u0442\\u043e \\u0421\\u0430\\u0448\\u0430 \\u0441 \\u0420\\u043e\\u0441\\u0442\\u0435\\u043b\\u0435\\u043a\\u043e\\u043c\\u0430 \\u0432\\u0430\\u0441 \\u0431\\u0435\\u0441\\u043f\\u043e\\u043a\\u043e\\u044f\\u0442.\\nSPEAKER_01  \\u041f\\u043e\\u043c\\u043d\\u0438\\u0442\\u0435, \\u0441 \\u0432\\u0430\\u043c\\u0438 \\u043e\\u0431\\u0449\\u0430\\u043b\\u0438\\u0441\\u044c \\u043d\\u0430 \\u043f\\u0440\\u043e\\u0448\\u043b\\u043e\\u0439 \\u043d\\u0435\\u0434\\u0435\\u043b\\u0435?\\nSPEAKER_00  \\u041d\\u0443, \\u0447\\u0442\\u043e \\u0432\\u044b \\u0445\\u043e\\u0442\\u0435\\u043b\\u0438? \\u042f \\u0445\\u043e\\u0442\\u0435\\u043b\\u0430 \\u0431\\u044b \\u0443\\u0442\\u043e\\u0447\\u043d\\u0438\\u0442\\u044c, \\u0447\\u0442\\u043e \\u043e\\u0442\\u0432\\u0435\\u0442\\u0438\\u043b \\u0432\\u0430\\u0448 \\u0441\\u044b\\u043d \\u043f\\u043e \\u043f\\u043e\\u0432\\u043e\\u0434\\u0443 \\u043f\\u0440\\u0435\\u0434\\u043b\\u043e\\u0436\\u0435\\u043d\\u0438\\u044f \\u043e \\u043f\\u043e\\u0434\\u043a\\u043b\\u044e\\u0447\\u0435\\u043d\\u0438\\u0438 \\u0418\\u043d\\u0442\\u0435\\u0440\\u043d\\u0435\\u0442\\u0430?\\nSPEAKER_01  \\u042f \\u0435\\u0433\\u043e \\u0435\\u0449\\u0435 \\u043d\\u0435 \\u0432\\u0438\\u0434\\u0435\\u043b\\u0430.\\nSPEAKER_00  \\u0410, \\u0432\\u044b \\u0435\\u0433\\u043e \\u0435\\u0449\\u0435 \\u043d\\u0435 \\u0432\\u0438\\u0434\\u0435\\u043b\\u0438?\\nSPEAKER_01  \\u041d\\u0435\\u0442, \\u043d\\u0435 \\u0432\\u0438\\u0434\\u0435\\u043b\\u0430 \\u0435\\u0433\\u043e. \\u041c\\u043e\\u0436\\u0435\\u0442\\u0435 \\u043f\\u0435\\u0440\\u0435\\u0437\\u0432\\u043e\\u043d\\u0438\\u0442\\u044c \\u0432 \\u043a\\u043e\\u043d\\u0446\\u0435 \\u0434\\u043d\\u044f.\\nSPEAKER_00  \\u0410 \\u0432 \\u043a\\u043e\\u043d\\u0446\\u0435 \\u0434\\u043d\\u044f \\u044d\\u0442\\u043e\\u0433\\u043e \\u0441\\u043a\\u043e\\u043b\\u044c\\u043a\\u043e, \\u0441\\u043a\\u0430\\u0436\\u0438\\u0442\\u0435, \\u043f\\u043e\\u0436\\u0430\\u043b\\u0443\\u0439\\u0441\\u0442\\u0430? \\u041d\\u0443, \\u043c\\u043e\\u0436\\u0435\\u0442 \\u0431\\u044b\\u0442\\u044c, \\u043f\\u043e\\u0441\\u043b\\u0435 \\u0448\\u0435\\u0441\\u0442\\u0438. \\u0412 \\u0434\\u0435\\u0432\\u044f\\u0442\\u043d\\u0430\\u0434\\u0446\\u0430\\u0442\\u044c \\u0447\\u0430\\u0441\\u043e\\u0432, \\u0432 \\u0434\\u0432\\u0430\\u0434\\u0446\\u0430\\u0442\\u044c \\u0447\\u0430\\u0441\\u043e\\u0432 \\u044f \\u0443\\u0432\\u0438\\u0436\\u0443 \\u0435\\u0433\\u043e. \\u041e\\u0439, \\u0442\\u0430\\u043a. \\u0410 \\u0441\\u043a\\u0430\\u0436\\u0438\\u0442\\u0435, \\u0430 \\u0432\\u043e\\u0442 \\u043d\\u043e\\u043c\\u0435\\u0440 \\u0437\\u0430\\u043a\\u0430\\u043d\\u0447\\u0438\\u0432\\u0430\\u0435\\u0442\\u0441\\u044f \\u043d\\u0430 \\u043f\\u044f\\u0442\\u044c\\u0434\\u0435\\u0441\\u044f\\u0442 \\u043f\\u044f\\u0442\\u044c. \\u042d\\u0442\\u043e \\u0441\\u043b\\u0443\\u0447\\u0430\\u0439\\u043d\\u043e \\u043d\\u0435 \\u0435\\u0433\\u043e \\u043d\\u043e\\u043c\\u0435\\u0440 \\u0442\\u0435\\u043b\\u0435\\u0444\\u043e\\u043d\\u0430? \\u041d\\u0435\\u0442. \\u041d\\u0435\\u0442, \\u043d\\u0435 \\u0435\\u0433\\u043e, \\u0434\\u0430, \\u043d\\u043e\\u043c\\u0435\\u0440 \\u0442\\u0435\\u043b\\u0435\\u0444\\u043e\\u043d\\u0430. \\u0410 \\u043c\\u043e\\u0436\\u0435\\u0442 \\u0437\\u0430\\u0432\\u0442\\u0440\\u0430 \\u043f\\u043e\\u043b\\u0443\\u0447\\u0438\\u0442\\u0441\\u044f \\u043a\\u0430\\u043a-\\u0442\\u043e \\u0441\\u0432\\u044f\\u0437\\u0430\\u0442\\u044c\\u0441\\u044f, \\u0447\\u0442\\u043e\\u0431\\u044b\\nSPEAKER_01  \\u044f \\u0443\\u0436\\u0435\\u2026\\nSPEAKER_00  \\u041d\\u0443, \\u0434\\u0430\\u0432\\u0430\\u0439\\u0442\\u0435 \\u0442\\u0430\\u043a.\\nSPEAKER_01  \\u0410 \\u0437\\u0430\\u0432\\u0442\\u0440\\u0430 \\u0432\\u043e \\u0441\\u043a\\u043e\\u043b\\u044c\\u043a\\u043e?\\nSPEAKER_00  \\u0412 \\u044d\\u0442\\u043e \\u0432\\u0440\\u0435\\u043c\\u044f. \\u0412 \\u044d\\u0442\\u043e \\u0436\\u0435 \\u0432\\u0440\\u0435\\u043c\\u044f? \\u0412\\u0441\\u0435, \\u0445\\u043e\\u0440\\u043e\\u0448\\u043e, \\u043f\\u043e \\u043c\\u0435\\u0442\\u043e\\u0434\\u0438\\u043a\\u0435 \\u0448\\u043b\\u0438, \\u0442\\u043e\\u0433\\u0434\\u0430 \\u0442\\u0430\\u043a \\u0436\\u0435 \\u0432\\u0430\\u0441 \\u0437\\u0430\\u0432\\u0442\\u0440\\u0430\\nSPEAKER_01  \\u043d\\u0430\\u0431\\u0435\\u0440\\u0443\\u0442. \\u0425\\u043e\\u0440\\u043e\\u0448\\u043e, \\u0441\\u043f\\u0430\\u0441\\u0438\\u0431\\u043e \\u0432\\u0430\\u043c, \\u0434\\u043e \\u0441\\u0432\\u0438\\u0434\\u0430\\u043d\\u0438\\u044f.\",\n          \"SPEAKER_01  \\u0414\\u043e\\u0431\\u0440\\u044b\\u0439 \\u0434\\u0435\\u043d\\u044c, \\u043c\\u0435\\u043d\\u044f \\u0437\\u043e\\u0432\\u0443\\u0442 \\u0421\\u043e\\u0441\\u0430, \\u0441 \\u043a\\u043e\\u043c\\u043f\\u0430\\u043d\\u0438\\u0435\\u0439 \\u0420\\u043e\\u0441\\u0442\\u0435\\u043b\\u0435\\u043a\\u043e\\u043c\\u0431\\u0438\\u043d, \\u0441 \\u0431\\u0435\\u0441\\u043f\\u043e\\u043a\\u043e\\u0439.\\nSPEAKER_00  \\u042f \\u0432\\u043e\\u0442 \\u0431\\u0443\\u043a\\u0432\\u0430\\u043b\\u044c\\u043d\\u043e \\u0432 18-\\u0433\\u043e \\u0447\\u0430\\u0441\\u0430 \\u0437\\u0432\\u043e\\u043d\\u0438\\u043b\\u0430 \\u043f\\u043e \\u044d\\u0442\\u043e\\u043c\\u0443 \\u043d\\u043e\\u043c\\u0435\\u0440\\u0443 \\u0442\\u0435\\u043b\\u0435\\u0444\\u043e\\u043d\\u0430, \\u0445\\u043e\\u0442\\u0435\\u043b\\u0430 \\u043f\\u043e\\u043e\\u0431\\u0449\\u0430\\u0442\\u044c\\u0441\\u044f \\u0432\\u043e\\u0442 \\u0441 \\u0410\\u043b\\u0435\\u043a\\u0441\\u0430\\u043d\\u0434\\u0440\\u043e\\u043c, \\u0441 \\u0410\\u043b\\u0435\\u043a\\u0441\\u0430\\u043d\\u0434\\u0440\\u043e\\u0432\\u0438\\u0447\\u0435\\u043c \\u043d\\u0430\\u0441\\u0447\\u0435\\u0442 \\u043a\\u043e\\u043c\\u043c\\u0435\\u0440\\u0447\\u0435\\u0441\\u043a\\u0438\\u0445 \\u043f\\u0440\\u0435\\u0434\\u043b\\u043e\\u0436\\u0435\\u043d\\u0438\\u0439. \\u041c\\u043d\\u0435 \\u0441\\u043a\\u0430\\u0437\\u0430\\u043b\\u0438, \\u0447\\u0442\\u043e \\u044f \\u043c\\u043e\\u0433\\u0443 \\u0432 \\u0447\\u0435\\u0442\\u0432\\u0435\\u0440\\u0433 \\u043f\\u0435\\u0440\\u0435\\u0437\\u0432\\u043e\\u043d\\u0438\\u0442\\u044c \\u0432 \\u043b\\u044e\\u0431\\u043e\\u0435 \\u0432\\u0440\\u0435\\u043c\\u044f.\\nSPEAKER_01  \\u041d\\u043e \\u043e\\u043d \\u0435\\u0449\\u0435 \\u043d\\u0435 \\u043f\\u0440\\u0438\\u0435\\u0445\\u0430\\u043b.\\nSPEAKER_00  \\u0415\\u0449\\u0435 \\u043d\\u0435 \\u043f\\u0440\\u0438\\u0435\\u0445\\u0430\\u043b? \\u0410 \\u043c\\u043e\\u0436\\u0435\\u0442 \\u044f \\u0441\\u043c\\u043e\\u0433\\u0443 \\u043a\\u043e\\u043c\\u043c\\u0435\\u0440\\u0447\\u0435\\u0441\\u043a\\u043e\\u0435 \\u043f\\u0440\\u0435\\u0434\\u043b\\u043e\\u0436\\u0435\\u043d\\u0438\\u0435 \\u043e\\u0442\\u043f\\u0440\\u0430\\u0432\\u0438\\u0442\\u044c \\u0435\\u043c\\u0443 \\u043d\\u0430 \\u043f\\u043e\\u0447\\u0442\\u0443, \\u043e\\u043d \\u043f\\u043e\\u0442\\u043e\\u043c \\u043f\\u043e\\u0441\\u043c\\u043e\\u0442\\u0440\\u0438\\u0442 \\u0438 \\u043c\\u043d\\u0435 \\u043e\\u0431\\u0440\\u0430\\u0442\\u043d\\u044b\\u043c \\u043f\\u0438\\u0441\\u044c\\u043c\\u043e\\u043c \\u0442\\u043e\\u0433\\u0434\\u0430 \\u0441\\u043a\\u0430\\u0436\\u0435\\u0442, \\u0447\\u0442\\u043e \\u043a\\u0430\\u043a.\\nSPEAKER_01  \\u0414\\u0430, \\u043e\\u0442\\u043f\\u0440\\u0430\\u0432\\u043b\\u044f\\u0439\\u0442\\u0435, \\u043a\\u043e\\u043d\\u0435\\u0447\\u043d\\u043e.\\nSPEAKER_00  \\u0410 \\u043c\\u043e\\u0436\\u0435\\u0442\\u0435, \\u043f\\u043e\\u0436\\u0430\\u043b\\u0443\\u0439\\u0441\\u0442\\u0430, \\u043d\\u0430\\u0437\\u0432\\u0430\\u0442\\u044c \\u043f\\u043e\\u0447\\u0442\\u0443? \\u0421\\u0435\\u0439\\u0447\\u0430\\u0441.\\nSPEAKER_01  \\u0421\\u0435\\u0439\\u043b, \\u0441\\u043e\\u0431\\u0430\\u043a\\u0430, \\u0420\\u043e\\u0441\\u0442\\u043e\\u0432,\\u043e\\u0432-\\u0433\\u0435\\u043d\\u0435\\u0440\\u0430\\u0442\\u043e\\u0440\\u044b.\\u0440\\u0443\\nSPEAKER_00  \\u041f\\u043e\\u043b\\u0443\\u0447\\u0430\\u0435\\u0442\\u0441\\u044f, \\u0441\\u044d\\u0439\\u043b \\u0441\\u043e\\u0431\\u0430\\u043a\\u0430 \\u0420\\u043e\\u0441\\u0442\\u043e\\u0432-\\u0433\\u0435\\u043d\\u0435\\u0440\\u0430\\u0442\\u043e\\u0440\\u044b.\\u0440\\u0443\\nSPEAKER_01  \\u0413\\u0435\\u043d\\u0435\\u0440\\u0430\\u0442\\u043e\\u0440\\u044b.\\u0440\\u0443\\nSPEAKER_00  \\u0412\\u0441\\u0435, \\u0441\\u043f\\u0430\\u0441\\u0438\\u0431\\u043e \\u0431\\u043e\\u043b\\u044c\\u0448\\u043e\\u0435.\\nSPEAKER_01  \\u0411\\u043b\\u0430\\u0433\\u043e\\u0434\\u0430\\u0440\\u043d\\u0430 \\u0432\\u0430\\u043c.\\nSPEAKER_00  \\u0425\\u043e\\u0440\\u043e\\u0448\\u0435\\u0433\\u043e \\u0434\\u043d\\u044f \\u0432\\u0430\\u043c. \\u0414\\u043e \\u0441\\u0432\\u0438\\u0434\\u0430\\u043d\\u0438\\u044f.\\nSPEAKER_01  \\u0412\\u0430\\u043c \\u0442\\u043e\\u0436\\u0435 \\u0434\\u043e \\u0441\\u0432\\u0438\\u0434\\u0430\\u043d\\u0438\\u044f. \\u0421\\u043f\\u0430\\u0441\\u0438\\u0431\\u043e.\",\n          \"SPEAKER_00  \\u0417\\u0434\\u0440\\u0430\\u0432\\u0441\\u0442\\u0432\\u0443\\u0439\\u0442\\u0435. \\u042d\\u0442\\u043e \\u043a\\u043e\\u043c\\u043f\\u0430\\u043d\\u0438\\u044f \\u0420\\u043e\\u0441\\u0442\\u0435\\u043b\\u0435\\u043a\\u043e\\u043c\\u0431\\u0438\\u0437\\u043d\\u0435\\u0441. \\u041c\\u0435\\u043d\\u044f \\u041d\\u0430\\u0442\\u0430\\u043b\\u044c\\u044f \\u0437\\u043e\\u0432\\u0443\\u0442. \\u0425\\u043e\\u0442\\u0435\\u043b\\u0438 \\u0431\\u044b \\u0412\\u044b \\u043d\\u0430\\u0448\\u0438 \\u0443\\u0441\\u043b\\u0443\\u0433\\u0438 \\u0412\\u0430\\u043c \\u043f\\u0440\\u0435\\u0434\\u043b\\u043e\\u0436\\u0438\\u0442\\u044c? \\u0415\\u0441\\u043b\\u0438 \\u043f\\u0440\\u0430\\u0432\\u0438\\u043b\\u044c\\u043d\\u044b\\u0439 \\u0430\\u0434\\u0440\\u0446\\u0430 \\u0411\\u0430\\u0437\\u043e\\u0432\\u0430\\u044f, \\u0434\\u043e\\u043c 9? \\u0414\\u0430, \\u0434\\u0430, \\u0434\\u0430, \\u0432\\u0441\\u0435 \\u043f\\u0440\\u0430\\u0432\\u0438\\u043b\\u044c\\u043d\\u043e, \\u0411\\u0430\\u0437\\u043e\\u0432\\u0430\\u044f, \\u0434\\u043e\\u043c 9.\\nSPEAKER_01  \\u041d\\u0443, \\u0435\\u0441\\u043b\\u0438 \\u0442\\u0430\\u043c \\u0435\\u0441\\u0442\\u044c \\u0442\\u0435\\u0445\\u043d\\u0438\\u0447\\u0435\\u0441\\u043a\\u0430\\u044f \\u0432\\u043e\\u0437\\u043c\\u043e\\u0436\\u043d\\u043e\\u0441\\u0442\\u044c, \\u043f\\u0440\\u043e\\u0432\\u0435\\u0440\\u043a\\u0430 \\u043d\\u0430\\u0448\\u0438\\u0445 \\u0442\\u0435\\u0445\\u043d\\u0438\\u043a\\u043e\\u0432 \\u0432\\u044b\\u0435\\u0437\\u0434 \\u0431\\u0435\\u0441\\u043f\\u043b\\u0430\\u0442\\u043d\\u043e, \\u0435\\u0441\\u043b\\u0438 \\u0442\\u0430\\u043c \\u0432\\u0441\\u0435 \\u0445\\u043e\\u0440\\u043e\\u0448\\u043e \\u0438 \\u043d\\u0435\\u0442 \\u043d\\u0438\\u043a\\u0430\\u043a\\u0438\\u0445 \\u0441\\u043b\\u043e\\u0436\\u043d\\u043e\\u0441\\u0442\\u0435\\u0439, \\u0442\\u043e \\u043e\\u0442 \\u043f\\u043e\\u043b\\u0443\\u0442\\u043e\\u0440\\u0430 \\u0442\\u044b\\u0441\\u044f\\u0447.\\nSPEAKER_00  \\u0445\\u043e\\u0440\\u043e\\u0448\\u043e \\u0438 \\u043d\\u0435\\u0442 \\u043d\\u0438\\u043a\\u0430\\u043a\\u0438\\u0445 \\u0441\\u043b\\u043e\\u0436\\u043d\\u043e\\u0441\\u0442\\u0435\\u0439 \\u0442\\u043e \\u043e\\u0442 \\u043f\\u043e\\u043b\\u0443\\u0442\\u043e\\u0440\\u0430 \\u0442\\u044b\\u0441\\u044f\\u0447 \\u0430 \\u0432\\u043e\\u0442 \\u0438 \\u0432 \\u0437\\u0430\\u0432\\u0438\\u0441\\u0438\\u043c\\u043e\\u0441\\u0442\\u0438 \\u043e\\u0442 \\u0442\\u043e\\u0433\\u043e \\u043a\\u0430\\u043a\\u0430\\u044f \\u0432\\u0430\\u043c \\u043d\\u0443\\u0436\\u043d\\u0430 \\u0441\\u043a\\u043e\\u0440\\u043e\\u0441\\u0442\\u044c \\u0442\\u0430\\u043a\\u043e\\u0439 \\u0442\\u0430\\u0440\\u0438\\u0444 \\u0431\\u0443\\u0434\\u0435\\u0442 \\u0441\\u043a\\u043e\\u043b\\u044c\\u043a\\u043e \\u0434\\u043e 100 \\u043c\\u0435\\u0433\\u0430\\u0431\\u0438\\u0442\\nSPEAKER_01  100 \\u043c\\u0435\\u0433\\u0430\\u0431\\u0438\\u0442 \\u0443 \\u043d\\u0430\\u0441 D200 \\u0431\\u0443\\u0434\\u0435\\u0442 \\u0441\\u0442\\u043e\\u0438\\u0442\\u044c 50400.\\nSPEAKER_00  \\u041f\\u043e\\u043d\\u044f\\u043b \\u0432\\u0430\\u0441. \\u041f\\u043e\\u0434\\u043a\\u043b\\u044e\\u0447\\u0435\\u043d\\u0438\\u0435 \\u043f\\u043e\\u043b\\u0442\\u043e\\u0440\\u044b.\\nSPEAKER_01  \\u0414\\u0435\\u043b\\u0430\\u0435\\u043c \\u0431\\u044b\\u0441\\u0442\\u0440\\u043e, \\u0435\\u0441\\u043b\\u0438 \\u0442\\u0430\\u043c, \\u043d\\u0443 \\u043a\\u0430\\u043a \\u0431\\u044b \\u0443 \\u043c\\u0435\\u043d\\u044f \\u043d\\u0430\\u043f\\u0438\\u0441\\u0430\\u043d\\u043e, \\u0447\\u0442\\u043e \\u0434\\u043e\\u0441\\u0442\\u0443\\u043f \\u0435\\u0441\\u0442\\u044c. \\u0422\\u043e \\u0435\\u0441\\u0442\\u044c \\u0442\\u0435\\u0445\\u043d\\u0438\\u043a\\u0438 \\u043f\\u0440\\u043e\\u0441\\u0442\\u043e \\u043f\\u0440\\u0438\\u0435\\u0434\\u0443\\u0442 \\u0438 \\u043f\\u0440\\u043e\\u0432\\u0435\\u0440\\u044f\\u0442.\\nSPEAKER_00  \\u0414\\u043e\\u0442\\u044f\\u043d\\u0443\\u0442 \\u0434\\u043e \\u0432\\u0430\\u0441 \\u043a\\u0430\\u0431\\u0435\\u043b\\u044c \\u0438 \\u043f\\u043e\\u0434\\u043a\\u043b\\u044e\\u0447\\u0438\\u043c \\u0432\\u0430\\u0441.\\nSPEAKER_01  \\u042f \\u043f\\u043e\\u043d\\u044f\\u043b \\u0432\\u0430\\u0441.\\nSPEAKER_00  \\u0421\\u043c\\u043e\\u0442\\u0440\\u0438\\u0442\\u0435, \\u044f \\u0441\\u0435\\u0439\\u0447\\u0430\\u0441 \\u043f\\u043e\\u043b\\u044c\\u0437\\u0443\\u044e\\u0441\\u044c \\u0440\\u0435\\u0441\\u0443\\u0440\\u0441\\u043e\\u043c \\u00ab\\u0421\\u043a\\u0432\\u0435\\u0440\\u00bb.\\nSPEAKER_01  \\u0423 \\u043c\\u0435\\u043d\\u044f \\u043e\\u0431\\u043e\\u0437\\u0432\\u0430\\u0442\\u0430 \\u0432\\u044b\\u0445\\u043e\\u0434\\u0438\\u0442, \\u044f \\u043d\\u0435 \\u043f\\u043e\\u043c\\u043d\\u044e \\u043a\\u0430\\u043a\\u0430\\u044f \\u0441\\u043a\\u043e\\u0440\\u043e\\u0441\\u0442\\u044c,\\nSPEAKER_00  \\u043d\\u0435 \\u0431\\u0443\\u0434\\u0443 \\u0432\\u0430\\u0441 \\u043e\\u0431\\u043c\\u0430\\u043d\\u044b\\u0432\\u0430\\u0442\\u044c, \\u0443 \\u043c\\u0435\\u043d\\u044f \\u043e\\u0431\\u043e\\u0437\\u0432\\u0430\\u0442\\u0430 \\u0432\\u044b\\u0445\\u043e\\u0434\\u0438\\u0442\\nSPEAKER_01  1100 \\u0440\\u0443\\u0431\\u043b\\u0435\\u0439 \\u0432 \\u043c\\u0435\\u0441\\u044f\\u0446.\\nSPEAKER_00  \\u041d\\u0430\\u0440\\u0435\\u043a\\u0430\\u043d\\u0438\\u0439 \\u043d\\u0430 \\u043a\\u0430\\u0447\\u0435\\u0441\\u0442\\u0432\\u043e \\u0438\\u043d\\u0442\\u0435\\u0440\\u043d\\u0435\\u0442\\u0430\\nSPEAKER_01  \\u043f\\u043e\\u043a\\u0430 \\u043d\\u0435\\u0442 \\u0432\\u0440\\u043e\\u0434\\u0435 \\u043a\\u0430\\u043a.\\nSPEAKER_00  \\u0412 \\u043e\\u0441\\u043d\\u043e\\u0432\\u043d\\u043e\\u043c \\u043e\\u0444\\u0438\\u0441\\u043d\\u0430\\u044f \\u043f\\u043e\\u0447\\u0442\\u0430,\\nSPEAKER_01  \\u0431\\u0440\\u0430\\u0443\\u0437\\u0435\\u0440, \\u043d\\u0438\\u0447\\u0435\\u0433\\u043e \\u0442\\u0430\\u043a\\u043e\\u0433\\u043e.\\nSPEAKER_00  \\u0422\\u043e \\u0435\\u0441\\u0442\\u044c \\u0443 \\u0432\\u0430\\u0441 \\u043d\\u0435\\u0442 \\u0442\\u0430\\u043a\\u043e\\u0439 \\u043d\\u0435\\u043e\\u0431\\u0445\\u043e\\u0434\\u0438\\u043c\\u043e\\u0441\\u0442\\u0438\\nSPEAKER_01  \\u043a\\u0430\\u043a\\u0438\\u0435-\\u0442\\u043e \\u0441\\u043b\\u043e\\u0436\\u043d\\u044b\\u0435 \\u0432\\u0435\\u0449\\u0438 \\u0434\\u0435\\u043b\\u0430\\u0442\\u044c,\\nSPEAKER_00  \\u0447\\u0442\\u043e\\u0431\\u044b \\u0431\\u044b\\u043b\\u043e \\u0434\\u043e\\u0441\\u0442\\u0430\\u0442\\u043e\\u0447\\u043d\\u043e.\\nSPEAKER_01  \\u0414\\u0430.\\nSPEAKER_00  \\u041d\\u043e \\u0443 \\u043d\\u0430\\u0441 \\u0435\\u0441\\u0442\\u044c \\u0441\\u043e\\u0432\\u0441\\u0435\\u043c \\u043c\\u0430\\u043b\\u0435\\u043d\\u044c\\u043a\\u0438\\u0439 \\u0442\\u0430\\u0440\\u0438\\u0444, \\u0442\\u0430\\u043c \\u0443\\u0436\\u0435 840, 10 \\u043c\\u0435\\u0433\\u0430\\u0431\\u0438\\u0442.\\nSPEAKER_01  \\u0415\\u0441\\u043b\\u0438 \\u0443 \\u0432\\u0430\\u0441 \\u044d\\u0442\\u043e \\u0443\\u0441\\u0442\\u0440\\u043e\\u0438\\u0442\\u0441\\u044f, \\u043c\\u044b \\u043c\\u043e\\u0436\\u0435\\u043c \\u043f\\u0435\\u0440\\u0435\\u043f\\u043e\\u0434\\u043a\\u043b\\u044e\\u0447\\u0438\\u0442\\u044c.\\nSPEAKER_00  \\u0414\\u0430\\u0432\\u0430\\u0439\\u0442\\u0435 \\u0441\\u0434\\u0435\\u043b\\u0430\\u0435\\u043c \\u0442\\u0430\\u043a. \\u042f \\u0441\\u0435\\u0439\\u0447\\u0430\\u0441 \\u0432 \\u0434\\u043e\\u0440\\u043e\\u0433\\u0435.\\nSPEAKER_01  \\u042f \\u043f\\u0440\\u0438\\u0435\\u0434\\u0443 \\u0447\\u0435\\u0440\\u0435\\u0437 \\u0441\\u043f\\u0438\\u043a\\u0442\\u0435\\u0441\\u0442, \\u043f\\u0440\\u043e\\u0432\\u0435\\u0440\\u044e \\u0441\\u043a\\u043e\\u0440\\u043e\\u0441\\u0442\\u044c, \\u043a\\u0430\\u043a\\u0430\\u044f \\u0443 \\u043d\\u0430\\u0441 \\u0442\\u0430\\u043c \\u0441\\u043a\\u043e\\u0440\\u043e\\u0441\\u0442\\u044c.\\nSPEAKER_00  \\u0418 \\u0442\\u043e\\u0433\\u0434\\u0430 \\u0441\\u043c\\u043e\\u0436\\u0435\\u043c \\u0434\\u0430\\u043b\\u044c\\u0448\\u0435 \\u043f\\u0440\\u043e\\u0434\\u043e\\u043b\\u0436\\u0438\\u0442\\u044c \\u0431\\u0435\\u0441\\u0435\\u0434\\u0443. \\u0441\\u043f\\u0438\\u043a\\u0442\\u0435\\u0441\\u0442, \\u043f\\u0440\\u043e\\u0432\\u0435\\u0440\\u0438\\u043c \\u0441\\u043a\\u043e\\u0440\\u043e\\u0441\\u0442\\u044c, \\u043a\\u0430\\u043a\\u0430\\u044f \\u0443 \\u043d\\u0430\\u0441 \\u0442\\u0430\\u043c \\u0441\\u043a\\u043e\\u0440\\u043e\\u0441\\u0442\\u044c, \\u0438 \\u0442\\u043e\\u0433\\u0434\\u0430\\nSPEAKER_01  \\u0441\\u043c\\u043e\\u0436\\u0435\\u043c \\u0434\\u0430\\u043b\\u044c\\u0448\\u0435 \\u043f\\u0440\\u043e\\u0434\\u043e\\u043b\\u0436\\u0438\\u0442\\u044c\\nSPEAKER_00  \\u0431\\u0435\\u0441\\u0435\\u0434\\u0443. \\u0425\\u043e\\u0440\\u043e\\u0448\\u043e.\\nSPEAKER_01  \\u0412 \\u043a\\u0430\\u043a\\u043e\\u0435 \\u0432\\u0440\\u0435\\u043c\\u044f \\u0432\\u0430\\u043c \\u0443\\u0434\\u043e\\u0431\\u043d\\u043e \\u043f\\u043e\\u0437\\u0432\\u043e\\u043d\\u0438\\u0442\\u044c? \\u0421\\u0435\\u0433\\u043e\\u0434\\u043d\\u044f,\\nSPEAKER_00  \\u0437\\u0430\\u0432\\u0442\\u0440\\u0430? \\u0421\\u043a\\u043e\\u0440\\u0435\\u0435 \\u0432\\u0441\\u0435\\u0433\\u043e, \\u0443\\u0436\\u0435\\nSPEAKER_01  \\u0437\\u0430\\u0432\\u0442\\u0440\\u0430. \\u0418 \\u0432\\u0440\\u0435\\u043c\\u044f\\nSPEAKER_00  \\u043e\\u0431\\u044f\\u0437\\u0430\\u0442\\u0435\\u043b\\u044c\\u043d\\u043e \\u0431\\u0443\\u0434\\u0435\\u0442 \\u043f\\u043e\\u0441\\u043b\\u0435\\nSPEAKER_01  11 \\u0438\\u043b\\u0438 \\u0432 \\u0440\\u0430\\u0439\\u043e\\u043d\\u0435 11.\\nSPEAKER_00  \\u0425\\u043e\\u0440\\u043e\\u0448\\u043e. \\u0415\\u0441\\u0442\\u044c \\u0434\\u0432\\u0435 \\u0441\\u0435\\u0439\\u0447\\u0430\\u0441\\nSPEAKER_01  \\u043d\\u0430\\u043f\\u043e\\u043c\\u0438\\u043d\\u0430\\u043b\\u043a\\u0438. \\u041f\\u043e\\u0441\\u0442\\u0430\\u0432\\u043b\\u044e \\u0432\\u0430\\u0441 \\u043d\\u0430 \\u0431\\u0435\\u0440\\u0443 \\u0437\\u0430\\u0432\\u0442\\u0440\\u0430.\\nSPEAKER_00  \\u0414\\u043e \\u0441\\u0432\\u0438\\u0434\\u0430\\u043d\\u0438\\u044f.\\nSPEAKER_01  \\u0421\\u043f\\u0430\\u0441\\u0438\\u0431\\u043e. \\u0414\\u043e \\u0441\\u0432\\u0438\\u0434\\u0430\\u043d\\u0438\\u044f. \\u0425\\u043e\\u0440\\u043e\\u0448\\u043e, \\u0435\\u0441\\u043b\\u0438 \\u0441\\u0435\\u0439\\u0447\\u0430\\u0441 \\u043d\\u0430\\u043f\\u043e\\u043c\\u0438\\u043d\\u0430\\u043b\\u043a\\u0443 \\u043f\\u043e\\u0441\\u0442\\u0430\\u0432\\u043b\\u044e, \\u0432\\u0430\\u0441 \\u043d\\u0430\\u0431\\u0435\\u0440\\u0443 \\u0437\\u0430\\u0432\\u0442\\u0440\\u0430. \\u0414\\u0430, \\u0445\\u043e\\u0440\\u043e\\u0448\\u043e, \\u0441\\u043f\\u0430\\u0441\\u0438\\u0431\\u043e.\\nSPEAKER_00  \\u0414\\u043e \\u0441\\u0432\\u0438\\u0434\\u0430\\u043d\\u0438\\u044f.\"\n        ],\n        \"semantic_type\": \"\",\n        \"description\": \"\"\n      }\n    }\n  ]\n}"
            }
          },
          "metadata": {},
          "execution_count": 15
        }
      ],
      "source": [
        "df"
      ]
    },
    {
      "cell_type": "code",
      "source": [
        "print(df.iloc[7]['texts'])"
      ],
      "metadata": {
        "colab": {
          "base_uri": "https://localhost:8080/"
        },
        "id": "UfmAuodiv4iS",
        "outputId": "7a0be368-ddda-406e-e0f8-b52a9f94c68b"
      },
      "execution_count": null,
      "outputs": [
        {
          "output_type": "stream",
          "name": "stdout",
          "text": [
            "SPEAKER_02  Привет! На связи Лера и Артём.\n",
            "SPEAKER_00  Основатель бренда LeTik Cosmetics.\n",
            "SPEAKER_02  Обрати внимание, мы ведём запись разговора, чтобы иметь возможность ещё раз услышать твой прекрасный голос.\n",
            "SPEAKER_00  Сейчас поможем с навигацией. Поехали!\n",
            "SPEAKER_02  Хочешь оформить заказ по телефону или узнать о новинках? Жми 1.\n",
            "SPEAKER_00  Есть вопрос по оформленным заказам? Жми 2.\n",
            "SPEAKER_02  Чтобы узнать о сотрудничестве с нашим брендом, жми 3.\n",
            "SPEAKER_00  Нужно послушать еще раз? Жми 4.\n",
            "SPEAKER_02  Звонишь с другим вопросом?\n",
            "SPEAKER_00  Просто оставайся на линии. Первый освободившийся сотрудник поможет тебе с решением. Продолжение следует... С вами была Евгения Косметик.\n",
            "SPEAKER_02  С Евгением я. Добрый день. Чем могу помочь?\n",
            "SPEAKER_04  Добрый день. Подскажите, пожалуйста, с кем могу переговорить по поводу коммерческого предстоящего?\n",
            "SPEAKER_01  Подскажите, пожалуйста, как могу к могу переговорить по поводу коммерческого предприятия? Подскажите, пожалуйста, как могу к вам обращаться?\n",
            "SPEAKER_03  Юлия.\n",
            "SPEAKER_01  Юлия, очень приятно. Ваше коммерческое предложение вы можете направить на электронную почту\n",
            "SPEAKER_03  маркетинг собакалитик.ру.\n",
            "SPEAKER_01  Она указана на нашем официальном сайте с поместкой для сотрудничества.\n",
            "SPEAKER_03  Я поняла. Хорошо. А обратную связь как могу получить?\n",
            "SPEAKER_01  Укажите, пожалуйста, подробную тему письма, в какой силы интересует сотрудничество, чтобы письмо оперативно и также верно перенаправили в нужный отдел. Далее, если предложение будет актуально и интересно, вам обязательно перезвонят или напишут по оставленным вами контактам.\n",
            "SPEAKER_03  Понятно, хорошо, спасибо. Всего доброго.\n",
            "SPEAKER_01  Большое благодарение за интерес к нашей компании. Хорошего дня.\n",
            "SPEAKER_03  До свидания. Пожалуйста.\n"
          ]
        }
      ]
    },
    {
      "cell_type": "code",
      "execution_count": null,
      "metadata": {
        "id": "IPeUYZgmRCLG"
      },
      "outputs": [],
      "source": [
        "!cp /content/td_data.csv \"/content/drive/MyDrive/Colab Notebooks/hac_rtk_2024/data/td_data.csv\""
      ]
    }
  ],
  "metadata": {
    "accelerator": "GPU",
    "colab": {
      "gpuType": "L4",
      "provenance": [],
      "machine_shape": "hm"
    },
    "kernelspec": {
      "display_name": "Python 3",
      "name": "python3"
    },
    "language_info": {
      "name": "python"
    }
  },
  "nbformat": 4,
  "nbformat_minor": 0
}